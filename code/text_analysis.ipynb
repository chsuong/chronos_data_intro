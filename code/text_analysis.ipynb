{
 "cells": [
  {
   "cell_type": "code",
   "execution_count": 57,
   "metadata": {},
   "outputs": [],
   "source": [
    "\"\"\"\n",
    "Adapted from https://github.com/declassengine/fgv/blob/master/Notebooks/cables_analysis_nb.ipynb\n",
    "\"\"\"\n",
    "import os\n",
    "import sys\n",
    "import time\n",
    "import datetime\n",
    "import re\n",
    "import pickle\n",
    "import getpass\n",
    "from bs4 import BeautifulSoup\n",
    "import pandas as pd\n",
    "import pandas.io.sql as psql\n",
    "import pymysql\n",
    "import numpy as np\n",
    "import pylab\n",
    "import matplotlib\n",
    "import matplotlib.pyplot as plt\n",
    "from matplotlib.font_manager import FontProperties\n",
    "import seaborn as sns\n",
    "#import seaborn.apionly as sns\n",
    "import nltk\n",
    "import nltk.data\n",
    "from nltk.corpus import stopwords\n",
    "from collections import defaultdict\n",
    "\n",
    "%matplotlib inline\n",
    "#%pylab inline"
   ]
  },
  {
   "cell_type": "code",
   "execution_count": 58,
   "metadata": {},
   "outputs": [],
   "source": [
    "path = \"/Users/clarahsuong/Dropbox/nyu_postdoc/ner/dataset_intro/\""
   ]
  },
  {
   "cell_type": "code",
   "execution_count": 59,
   "metadata": {},
   "outputs": [
    {
     "name": "stdout",
     "output_type": "stream",
     "text": [
      "········\n"
     ]
    }
   ],
   "source": [
    "p = getpass.getpass()\n",
    "conn = pymysql.connect(host='history-lab.org', port=3306, user='de_reader', passwd=p, db='declassification_cables')\n",
    "cur = conn.cursor()"
   ]
  },
  {
   "cell_type": "code",
   "execution_count": 60,
   "metadata": {},
   "outputs": [
    {
     "name": "stdout",
     "output_type": "stream",
     "text": [
      "('information_schema',)\n",
      "('authentication',)\n",
      "('bookwormDB',)\n",
      "('clinton_test',)\n",
      "('clinton_test_2',)\n",
      "('ddrs_equity',)\n",
      "('declassification',)\n",
      "('declassification_api',)\n",
      "('declassification_api_test',)\n",
      "('declassification_api_update',)\n",
      "('declassification_cabinet',)\n",
      "('declassification_cables',)\n",
      "('declassification_clinton',)\n",
      "('declassification_clinton_staging',)\n",
      "('declassification_cpdoc',)\n",
      "('declassification_ddrs',)\n",
      "('declassification_foia_dod',)\n",
      "('declassification_frus',)\n",
      "('declassification_frus_update',)\n",
      "('declassification_kissinger',)\n",
      "('declassification_pdb',)\n",
      "('declassification_pdb_test',)\n",
      "('etc',)\n",
      "('historylab_user_information',)\n",
      "('mysql',)\n",
      "('performance_schema',)\n",
      "('predict_history',)\n",
      "('predict_history_new',)\n",
      "('predictify_source',)\n",
      "('predictify_target',)\n",
      "('sys',)\n",
      "('user_information',)\n",
      "('visualizations',)\n"
     ]
    }
   ],
   "source": [
    "cur.execute(\"show databases;\")\n",
    "for r in cur.fetchall():\n",
    "   print(r)"
   ]
  },
  {
   "cell_type": "code",
   "execution_count": 61,
   "metadata": {},
   "outputs": [
    {
     "name": "stdout",
     "output_type": "stream",
     "text": [
      "('classification_countries',)\n",
      "('classification_doc',)\n",
      "('classifications',)\n",
      "('concept_doc',)\n",
      "('concepts',)\n",
      "('countries',)\n",
      "('country_doc',)\n",
      "('doc_counts',)\n",
      "('docs',)\n",
      "('from_to_sum',)\n",
      "('network_docs',)\n",
      "('network_nodes',)\n",
      "('office_doc',)\n",
      "('offices',)\n",
      "('person_doc',)\n",
      "('persons',)\n",
      "('reference_doc',)\n",
      "('tag_doc',)\n",
      "('tag_doc_staging',)\n",
      "('tagname_doc',)\n",
      "('tagnames',)\n",
      "('tags',)\n",
      "('tags_staging',)\n",
      "('tokens',)\n",
      "('top_classifications',)\n",
      "('top_countries',)\n",
      "('top_network',)\n",
      "('top_persons',)\n",
      "('top_topics',)\n",
      "('topic_doc',)\n",
      "('topic_token',)\n",
      "('topics',)\n",
      "('urgency',)\n",
      "('urgency_doc',)\n"
     ]
    }
   ],
   "source": [
    "cur.execute(\"use declassification_cables;\")\n",
    "cur.execute(\"show tables;\")\n",
    "for r in cur.fetchall():\n",
    "   print(r)"
   ]
  },
  {
   "cell_type": "code",
   "execution_count": 62,
   "metadata": {},
   "outputs": [
    {
     "name": "stdout",
     "output_type": "stream",
     "text": [
      "Number of fields is 80\n",
      "('doc_nbr', 'varchar(30)', 'YES', '', None, '')\n",
      "('auto_decaption', 'varchar(16)', 'YES', '', None, '')\n",
      "('reference', 'text', 'YES', '', None, '')\n",
      "('capture_date', 'date', 'YES', '', None, '')\n",
      "('channel', 'varchar(32)', 'YES', '', None, '')\n",
      "('concepts', 'text', 'YES', '', None, '')\n",
      "('control_nbr', 'varchar(32)', 'YES', '', None, '')\n",
      "('copy', 'varchar(32)', 'YES', '', None, '')\n",
      "('date', 'date', 'YES', 'MUL', None, '')\n",
      "('decaption_date', 'text', 'YES', '', None, '')\n",
      "('decaption_note', 'varchar(255)', 'YES', '', None, '')\n",
      "('disp_action', 'varchar(32)', 'YES', '', None, '')\n",
      "('disp_approved_on_date', 'date', 'YES', '', None, '')\n",
      "('disp_case', 'varchar(32)', 'YES', '', None, '')\n",
      "('disp_comment', 'text', 'YES', '', None, '')\n",
      "('disp_date', 'date', 'YES', '', None, '')\n",
      "('disp_event', 'varchar(8)', 'YES', '', None, '')\n",
      "('disp_history', 'text', 'YES', '', None, '')\n",
      "('disp_reason', 'varchar(32)', 'YES', '', None, '')\n",
      "('disp_remarks', 'varchar(8)', 'YES', '', None, '')\n",
      "('doc_source', 'varchar(16)', 'YES', '', None, '')\n",
      "('drafter', 'varchar(64)', 'YES', '', None, '')\n",
      "('enclosure', 'text', 'YES', '', None, '')\n",
      "('eo', 'varchar(256)', 'YES', '', None, '')\n",
      "('errors', 'varchar(32)', 'YES', '', None, '')\n",
      "('expiration', 'date', 'YES', '', None, '')\n",
      "('film', 'varchar(64)', 'YES', '', None, '')\n",
      "('handling', 'varchar(32)', 'YES', '', None, '')\n",
      "('isecure', 'int(11)', 'YES', '', None, '')\n",
      "('legacy_key', 'varchar(128)', 'YES', '', None, '')\n",
      "('line_count', 'int(11)', 'YES', '', None, '')\n",
      "('litigationhistory', 'text', 'YES', '', None, '')\n",
      "('locator', 'varchar(128)', 'YES', '', None, '')\n",
      "('messageid', 'varchar(64)', 'YES', '', None, '')\n",
      "('office', 'varchar(32)', 'YES', '', None, '')\n",
      "('origclass', 'varchar(32)', 'YES', '', None, '')\n",
      "('orighand', 'varchar(32)', 'YES', '', None, '')\n",
      "('origpclass', 'varchar(32)', 'YES', '', None, '')\n",
      "('origphand', 'varchar(32)', 'YES', '', None, '')\n",
      "('page_count', 'int(11)', 'YES', '', None, '')\n",
      "('pchannel', 'varchar(32)', 'YES', '', None, '')\n",
      "('pclass', 'text', 'YES', '', None, '')\n",
      "('phandling', 'text', 'YES', '', None, '')\n",
      "('retention', 'int(11)', 'YES', '', None, '')\n",
      "('review_action', 'text', 'YES', '', None, '')\n",
      "('review_content_flags', 'text', 'YES', '', None, '')\n",
      "('review_date', 'text', 'YES', '', None, '')\n",
      "('review_event', 'text', 'YES', '', None, '')\n",
      "('review_exemptions', 'text', 'YES', '', None, '')\n",
      "('review_media_id', 'text', 'YES', '', None, '')\n",
      "('review_release_date', 'text', 'YES', '', None, '')\n",
      "('review_release_event', 'text', 'YES', '', None, '')\n",
      "('review_transfer_date', 'text', 'YES', '', None, '')\n",
      "('review_withdrawn_fields', 'text', 'YES', '', None, '')\n",
      "('review_markings', 'text', 'YES', '', None, '')\n",
      "('sasid', 'int(11)', 'YES', '', None, '')\n",
      "('secure', 'varchar(32)', 'YES', '', None, '')\n",
      "('status', 'text', 'YES', '', None, '')\n",
      "('subject', 'text', 'YES', '', None, '')\n",
      "('to_field', 'text', 'YES', '', None, '')\n",
      "('vdkvgwkey', 'text', 'YES', '', None, '')\n",
      "('markings', 'text', 'YES', '', None, '')\n",
      "('body', 'longtext', 'YES', '', None, '')\n",
      "('raw_body', 'longtext', 'YES', '', None, '')\n",
      "('nara_markings', 'text', 'YES', '', None, '')\n",
      "('type', 'varchar(16)', 'YES', '', None, '')\n",
      "('format', 'varchar(16)', 'YES', '', None, '')\n",
      "('from_field', 'text', 'YES', '', None, '')\n",
      "('class', 'text', 'YES', '', None, '')\n",
      "('id', 'varchar(128)', 'NO', 'PRI', None, '')\n",
      "('cable_type', 'text', 'YES', '', None, '')\n",
      "('source_path', 'varchar(128)', 'YES', '', None, '')\n",
      "('body_markup', 'text', 'YES', '', None, '')\n",
      "('collection', 'varchar(16)', 'YES', '', None, '')\n",
      "('title', 'text', 'YES', '', None, '')\n",
      "('pdf', 'text', 'YES', '', None, '')\n",
      "('classification', 'varchar(32)', 'YES', '', None, '')\n",
      "('composite_index', 'int(11)', 'YES', '', '0', '')\n",
      "('is_historic', 'int(1)', 'YES', '', '0', '')\n",
      "('frus_match', 'varchar(35)', 'YES', '', None, '')\n"
     ]
    }
   ],
   "source": [
    "cur.execute(\"desc declassification_cables.docs;\")\n",
    "print('Number of fields is {}'.format(cur.rowcount))\n",
    "print\n",
    "fields = []\n",
    "for r in cur.fetchall():\n",
    "    fields.append(r)\n",
    "    print(r)"
   ]
  },
  {
   "cell_type": "code",
   "execution_count": 63,
   "metadata": {},
   "outputs": [
    {
     "name": "stdout",
     "output_type": "stream",
     "text": [
      "('doc_nbr', 'auto_decaption', 'reference', 'capture_date', 'channel', 'concepts', 'control_nbr', 'copy', 'date', 'decaption_date', 'decaption_note', 'disp_action', 'disp_approved_on_date', 'disp_case', 'disp_comment', 'disp_date', 'disp_event', 'disp_history', 'disp_reason', 'disp_remarks', 'doc_source', 'drafter', 'enclosure', 'eo', 'errors', 'expiration', 'film', 'handling', 'isecure', 'legacy_key', 'line_count', 'litigationhistory', 'locator', 'messageid', 'office', 'origclass', 'orighand', 'origpclass', 'origphand', 'page_count', 'pchannel', 'pclass', 'phandling', 'retention', 'review_action', 'review_content_flags', 'review_date', 'review_event', 'review_exemptions', 'review_media_id', 'review_release_date', 'review_release_event', 'review_transfer_date', 'review_withdrawn_fields', 'review_markings', 'sasid', 'secure', 'status', 'subject', 'to_field', 'vdkvgwkey', 'markings', 'body', 'raw_body', 'nara_markings', 'type', 'format', 'from_field', 'class', 'id', 'cable_type', 'source_path', 'body_markup', 'collection', 'title', 'pdf', 'classification', 'composite_index', 'is_historic', 'frus_match')\n"
     ]
    }
   ],
   "source": [
    "fields = list(zip(*fields))[0]\n",
    "print(fields)"
   ]
  },
  {
   "cell_type": "code",
   "execution_count": 64,
   "metadata": {},
   "outputs": [
    {
     "name": "stdout",
     "output_type": "stream",
     "text": [
      "Uncomment to run - otherwise load pickle next cell\n"
     ]
    },
    {
     "ename": "OperationalError",
     "evalue": "(2013, 'Lost connection to MySQL server during query ([Errno 54] Connection reset by peer)')",
     "output_type": "error",
     "traceback": [
      "\u001b[0;31m---------------------------------------------------------------------------\u001b[0m",
      "\u001b[0;31mConnectionResetError\u001b[0m                      Traceback (most recent call last)",
      "\u001b[0;32m/anaconda3/envs/chronos_data_intro/lib/python3.5/site-packages/pymysql/connections.py\u001b[0m in \u001b[0;36m_read_bytes\u001b[0;34m(self, num_bytes)\u001b[0m\n\u001b[1;32m    689\u001b[0m             \u001b[0;32mtry\u001b[0m\u001b[0;34m:\u001b[0m\u001b[0;34m\u001b[0m\u001b[0m\n\u001b[0;32m--> 690\u001b[0;31m                 \u001b[0mdata\u001b[0m \u001b[0;34m=\u001b[0m \u001b[0mself\u001b[0m\u001b[0;34m.\u001b[0m\u001b[0m_rfile\u001b[0m\u001b[0;34m.\u001b[0m\u001b[0mread\u001b[0m\u001b[0;34m(\u001b[0m\u001b[0mnum_bytes\u001b[0m\u001b[0;34m)\u001b[0m\u001b[0;34m\u001b[0m\u001b[0m\n\u001b[0m\u001b[1;32m    691\u001b[0m                 \u001b[0;32mbreak\u001b[0m\u001b[0;34m\u001b[0m\u001b[0m\n",
      "\u001b[0;32m/anaconda3/envs/chronos_data_intro/lib/python3.5/socket.py\u001b[0m in \u001b[0;36mreadinto\u001b[0;34m(self, b)\u001b[0m\n\u001b[1;32m    575\u001b[0m             \u001b[0;32mtry\u001b[0m\u001b[0;34m:\u001b[0m\u001b[0;34m\u001b[0m\u001b[0m\n\u001b[0;32m--> 576\u001b[0;31m                 \u001b[0;32mreturn\u001b[0m \u001b[0mself\u001b[0m\u001b[0;34m.\u001b[0m\u001b[0m_sock\u001b[0m\u001b[0;34m.\u001b[0m\u001b[0mrecv_into\u001b[0m\u001b[0;34m(\u001b[0m\u001b[0mb\u001b[0m\u001b[0;34m)\u001b[0m\u001b[0;34m\u001b[0m\u001b[0m\n\u001b[0m\u001b[1;32m    577\u001b[0m             \u001b[0;32mexcept\u001b[0m \u001b[0mtimeout\u001b[0m\u001b[0;34m:\u001b[0m\u001b[0;34m\u001b[0m\u001b[0m\n",
      "\u001b[0;31mConnectionResetError\u001b[0m: [Errno 54] Connection reset by peer",
      "\nDuring handling of the above exception, another exception occurred:\n",
      "\u001b[0;31mOperationalError\u001b[0m                          Traceback (most recent call last)",
      "\u001b[0;32m<ipython-input-64-8fd3e23cc807>\u001b[0m in \u001b[0;36m<module>\u001b[0;34m()\u001b[0m\n\u001b[1;32m     10\u001b[0m     \u001b[0mLIMIT\u001b[0m    \u001b[0;36m30\u001b[0m\u001b[0;34m;\u001b[0m\u001b[0;34m\u001b[0m\u001b[0m\n\u001b[1;32m     11\u001b[0m     \"\"\".format(field)\n\u001b[0;32m---> 12\u001b[0;31m     \u001b[0mcur\u001b[0m\u001b[0;34m.\u001b[0m\u001b[0mexecute\u001b[0m\u001b[0;34m(\u001b[0m\u001b[0mquery\u001b[0m\u001b[0;34m)\u001b[0m\u001b[0;34m\u001b[0m\u001b[0m\n\u001b[0m\u001b[1;32m     13\u001b[0m     \u001b[0;31m#print('Frequent values for the field {} (max 30):'.format(field))\u001b[0m\u001b[0;34m\u001b[0m\u001b[0;34m\u001b[0m\u001b[0m\n\u001b[1;32m     14\u001b[0m     \u001b[0;32mfor\u001b[0m \u001b[0mr\u001b[0m \u001b[0;32min\u001b[0m \u001b[0mcur\u001b[0m\u001b[0;34m.\u001b[0m\u001b[0mfetchall\u001b[0m\u001b[0;34m(\u001b[0m\u001b[0;34m)\u001b[0m\u001b[0;34m:\u001b[0m\u001b[0;34m\u001b[0m\u001b[0m\n",
      "\u001b[0;32m/anaconda3/envs/chronos_data_intro/lib/python3.5/site-packages/pymysql/cursors.py\u001b[0m in \u001b[0;36mexecute\u001b[0;34m(self, query, args)\u001b[0m\n\u001b[1;32m    168\u001b[0m         \u001b[0mquery\u001b[0m \u001b[0;34m=\u001b[0m \u001b[0mself\u001b[0m\u001b[0;34m.\u001b[0m\u001b[0mmogrify\u001b[0m\u001b[0;34m(\u001b[0m\u001b[0mquery\u001b[0m\u001b[0;34m,\u001b[0m \u001b[0margs\u001b[0m\u001b[0;34m)\u001b[0m\u001b[0;34m\u001b[0m\u001b[0m\n\u001b[1;32m    169\u001b[0m \u001b[0;34m\u001b[0m\u001b[0m\n\u001b[0;32m--> 170\u001b[0;31m         \u001b[0mresult\u001b[0m \u001b[0;34m=\u001b[0m \u001b[0mself\u001b[0m\u001b[0;34m.\u001b[0m\u001b[0m_query\u001b[0m\u001b[0;34m(\u001b[0m\u001b[0mquery\u001b[0m\u001b[0;34m)\u001b[0m\u001b[0;34m\u001b[0m\u001b[0m\n\u001b[0m\u001b[1;32m    171\u001b[0m         \u001b[0mself\u001b[0m\u001b[0;34m.\u001b[0m\u001b[0m_executed\u001b[0m \u001b[0;34m=\u001b[0m \u001b[0mquery\u001b[0m\u001b[0;34m\u001b[0m\u001b[0m\n\u001b[1;32m    172\u001b[0m         \u001b[0;32mreturn\u001b[0m \u001b[0mresult\u001b[0m\u001b[0;34m\u001b[0m\u001b[0m\n",
      "\u001b[0;32m/anaconda3/envs/chronos_data_intro/lib/python3.5/site-packages/pymysql/cursors.py\u001b[0m in \u001b[0;36m_query\u001b[0;34m(self, q)\u001b[0m\n\u001b[1;32m    326\u001b[0m         \u001b[0mself\u001b[0m\u001b[0;34m.\u001b[0m\u001b[0m_last_executed\u001b[0m \u001b[0;34m=\u001b[0m \u001b[0mq\u001b[0m\u001b[0;34m\u001b[0m\u001b[0m\n\u001b[1;32m    327\u001b[0m         \u001b[0mself\u001b[0m\u001b[0;34m.\u001b[0m\u001b[0m_clear_result\u001b[0m\u001b[0;34m(\u001b[0m\u001b[0;34m)\u001b[0m\u001b[0;34m\u001b[0m\u001b[0m\n\u001b[0;32m--> 328\u001b[0;31m         \u001b[0mconn\u001b[0m\u001b[0;34m.\u001b[0m\u001b[0mquery\u001b[0m\u001b[0;34m(\u001b[0m\u001b[0mq\u001b[0m\u001b[0;34m)\u001b[0m\u001b[0;34m\u001b[0m\u001b[0m\n\u001b[0m\u001b[1;32m    329\u001b[0m         \u001b[0mself\u001b[0m\u001b[0;34m.\u001b[0m\u001b[0m_do_get_result\u001b[0m\u001b[0;34m(\u001b[0m\u001b[0;34m)\u001b[0m\u001b[0;34m\u001b[0m\u001b[0m\n\u001b[1;32m    330\u001b[0m         \u001b[0;32mreturn\u001b[0m \u001b[0mself\u001b[0m\u001b[0;34m.\u001b[0m\u001b[0mrowcount\u001b[0m\u001b[0;34m\u001b[0m\u001b[0m\n",
      "\u001b[0;32m/anaconda3/envs/chronos_data_intro/lib/python3.5/site-packages/pymysql/connections.py\u001b[0m in \u001b[0;36mquery\u001b[0;34m(self, sql, unbuffered)\u001b[0m\n\u001b[1;32m    514\u001b[0m                 \u001b[0msql\u001b[0m \u001b[0;34m=\u001b[0m \u001b[0msql\u001b[0m\u001b[0;34m.\u001b[0m\u001b[0mencode\u001b[0m\u001b[0;34m(\u001b[0m\u001b[0mself\u001b[0m\u001b[0;34m.\u001b[0m\u001b[0mencoding\u001b[0m\u001b[0;34m,\u001b[0m \u001b[0;34m'surrogateescape'\u001b[0m\u001b[0;34m)\u001b[0m\u001b[0;34m\u001b[0m\u001b[0m\n\u001b[1;32m    515\u001b[0m         \u001b[0mself\u001b[0m\u001b[0;34m.\u001b[0m\u001b[0m_execute_command\u001b[0m\u001b[0;34m(\u001b[0m\u001b[0mCOMMAND\u001b[0m\u001b[0;34m.\u001b[0m\u001b[0mCOM_QUERY\u001b[0m\u001b[0;34m,\u001b[0m \u001b[0msql\u001b[0m\u001b[0;34m)\u001b[0m\u001b[0;34m\u001b[0m\u001b[0m\n\u001b[0;32m--> 516\u001b[0;31m         \u001b[0mself\u001b[0m\u001b[0;34m.\u001b[0m\u001b[0m_affected_rows\u001b[0m \u001b[0;34m=\u001b[0m \u001b[0mself\u001b[0m\u001b[0;34m.\u001b[0m\u001b[0m_read_query_result\u001b[0m\u001b[0;34m(\u001b[0m\u001b[0munbuffered\u001b[0m\u001b[0;34m=\u001b[0m\u001b[0munbuffered\u001b[0m\u001b[0;34m)\u001b[0m\u001b[0;34m\u001b[0m\u001b[0m\n\u001b[0m\u001b[1;32m    517\u001b[0m         \u001b[0;32mreturn\u001b[0m \u001b[0mself\u001b[0m\u001b[0;34m.\u001b[0m\u001b[0m_affected_rows\u001b[0m\u001b[0;34m\u001b[0m\u001b[0m\n\u001b[1;32m    518\u001b[0m \u001b[0;34m\u001b[0m\u001b[0m\n",
      "\u001b[0;32m/anaconda3/envs/chronos_data_intro/lib/python3.5/site-packages/pymysql/connections.py\u001b[0m in \u001b[0;36m_read_query_result\u001b[0;34m(self, unbuffered)\u001b[0m\n\u001b[1;32m    725\u001b[0m         \u001b[0;32melse\u001b[0m\u001b[0;34m:\u001b[0m\u001b[0;34m\u001b[0m\u001b[0m\n\u001b[1;32m    726\u001b[0m             \u001b[0mresult\u001b[0m \u001b[0;34m=\u001b[0m \u001b[0mMySQLResult\u001b[0m\u001b[0;34m(\u001b[0m\u001b[0mself\u001b[0m\u001b[0;34m)\u001b[0m\u001b[0;34m\u001b[0m\u001b[0m\n\u001b[0;32m--> 727\u001b[0;31m             \u001b[0mresult\u001b[0m\u001b[0;34m.\u001b[0m\u001b[0mread\u001b[0m\u001b[0;34m(\u001b[0m\u001b[0;34m)\u001b[0m\u001b[0;34m\u001b[0m\u001b[0m\n\u001b[0m\u001b[1;32m    728\u001b[0m         \u001b[0mself\u001b[0m\u001b[0;34m.\u001b[0m\u001b[0m_result\u001b[0m \u001b[0;34m=\u001b[0m \u001b[0mresult\u001b[0m\u001b[0;34m\u001b[0m\u001b[0m\n\u001b[1;32m    729\u001b[0m         \u001b[0;32mif\u001b[0m \u001b[0mresult\u001b[0m\u001b[0;34m.\u001b[0m\u001b[0mserver_status\u001b[0m \u001b[0;32mis\u001b[0m \u001b[0;32mnot\u001b[0m \u001b[0;32mNone\u001b[0m\u001b[0;34m:\u001b[0m\u001b[0;34m\u001b[0m\u001b[0m\n",
      "\u001b[0;32m/anaconda3/envs/chronos_data_intro/lib/python3.5/site-packages/pymysql/connections.py\u001b[0m in \u001b[0;36mread\u001b[0;34m(self)\u001b[0m\n\u001b[1;32m   1064\u001b[0m     \u001b[0;32mdef\u001b[0m \u001b[0mread\u001b[0m\u001b[0;34m(\u001b[0m\u001b[0mself\u001b[0m\u001b[0;34m)\u001b[0m\u001b[0;34m:\u001b[0m\u001b[0;34m\u001b[0m\u001b[0m\n\u001b[1;32m   1065\u001b[0m         \u001b[0;32mtry\u001b[0m\u001b[0;34m:\u001b[0m\u001b[0;34m\u001b[0m\u001b[0m\n\u001b[0;32m-> 1066\u001b[0;31m             \u001b[0mfirst_packet\u001b[0m \u001b[0;34m=\u001b[0m \u001b[0mself\u001b[0m\u001b[0;34m.\u001b[0m\u001b[0mconnection\u001b[0m\u001b[0;34m.\u001b[0m\u001b[0m_read_packet\u001b[0m\u001b[0;34m(\u001b[0m\u001b[0;34m)\u001b[0m\u001b[0;34m\u001b[0m\u001b[0m\n\u001b[0m\u001b[1;32m   1067\u001b[0m \u001b[0;34m\u001b[0m\u001b[0m\n\u001b[1;32m   1068\u001b[0m             \u001b[0;32mif\u001b[0m \u001b[0mfirst_packet\u001b[0m\u001b[0;34m.\u001b[0m\u001b[0mis_ok_packet\u001b[0m\u001b[0;34m(\u001b[0m\u001b[0;34m)\u001b[0m\u001b[0;34m:\u001b[0m\u001b[0;34m\u001b[0m\u001b[0m\n",
      "\u001b[0;32m/anaconda3/envs/chronos_data_intro/lib/python3.5/site-packages/pymysql/connections.py\u001b[0m in \u001b[0;36m_read_packet\u001b[0;34m(self, packet_type)\u001b[0m\n\u001b[1;32m    654\u001b[0m         \u001b[0mbuff\u001b[0m \u001b[0;34m=\u001b[0m \u001b[0;34mb''\u001b[0m\u001b[0;34m\u001b[0m\u001b[0m\n\u001b[1;32m    655\u001b[0m         \u001b[0;32mwhile\u001b[0m \u001b[0;32mTrue\u001b[0m\u001b[0;34m:\u001b[0m\u001b[0;34m\u001b[0m\u001b[0m\n\u001b[0;32m--> 656\u001b[0;31m             \u001b[0mpacket_header\u001b[0m \u001b[0;34m=\u001b[0m \u001b[0mself\u001b[0m\u001b[0;34m.\u001b[0m\u001b[0m_read_bytes\u001b[0m\u001b[0;34m(\u001b[0m\u001b[0;36m4\u001b[0m\u001b[0;34m)\u001b[0m\u001b[0;34m\u001b[0m\u001b[0m\n\u001b[0m\u001b[1;32m    657\u001b[0m             \u001b[0;31m#if DEBUG: dump_packet(packet_header)\u001b[0m\u001b[0;34m\u001b[0m\u001b[0;34m\u001b[0m\u001b[0m\n\u001b[1;32m    658\u001b[0m \u001b[0;34m\u001b[0m\u001b[0m\n",
      "\u001b[0;32m/anaconda3/envs/chronos_data_intro/lib/python3.5/site-packages/pymysql/connections.py\u001b[0m in \u001b[0;36m_read_bytes\u001b[0;34m(self, num_bytes)\u001b[0m\n\u001b[1;32m    696\u001b[0m                 raise err.OperationalError(\n\u001b[1;32m    697\u001b[0m                     \u001b[0mCR\u001b[0m\u001b[0;34m.\u001b[0m\u001b[0mCR_SERVER_LOST\u001b[0m\u001b[0;34m,\u001b[0m\u001b[0;34m\u001b[0m\u001b[0m\n\u001b[0;32m--> 698\u001b[0;31m                     \"Lost connection to MySQL server during query (%s)\" % (e,))\n\u001b[0m\u001b[1;32m    699\u001b[0m         \u001b[0;32mif\u001b[0m \u001b[0mlen\u001b[0m\u001b[0;34m(\u001b[0m\u001b[0mdata\u001b[0m\u001b[0;34m)\u001b[0m \u001b[0;34m<\u001b[0m \u001b[0mnum_bytes\u001b[0m\u001b[0;34m:\u001b[0m\u001b[0;34m\u001b[0m\u001b[0m\n\u001b[1;32m    700\u001b[0m             \u001b[0mself\u001b[0m\u001b[0;34m.\u001b[0m\u001b[0m_force_close\u001b[0m\u001b[0;34m(\u001b[0m\u001b[0;34m)\u001b[0m\u001b[0;34m\u001b[0m\u001b[0m\n",
      "\u001b[0;31mOperationalError\u001b[0m: (2013, 'Lost connection to MySQL server during query ([Errno 54] Connection reset by peer)')"
     ]
    }
   ],
   "source": [
    "print('Uncomment to run - otherwise load pickle next cell')\n",
    "\n",
    "distinct_fields_all = defaultdict(list)\n",
    "for field in fields:\n",
    "    query = \"\"\"\n",
    "    SELECT  docs.{0}, COUNT(docs.{0}) AS qty\n",
    "    FROM     declassification_cables.docs\n",
    "    GROUP BY docs.{0}\n",
    "    ORDER BY qty DESC\n",
    "    LIMIT    30;\n",
    "    \"\"\".format(field)\n",
    "    cur.execute(query)\n",
    "    #print('Frequent values for the field {} (max 30):'.format(field))\n",
    "    for r in cur.fetchall():\n",
    "        #print(r)\n",
    "        distinct_fields_all[field].append(r)\n",
    "    #print\n",
    "    #print\n",
    "with open(os.path.join(path, 'distinct_fields_all.pkl'), 'wb') as f:\n",
    "  pickle.dump(distinct_fields_all, f)\n"
   ]
  },
  {
   "cell_type": "markdown",
   "metadata": {},
   "source": [
    "##Word frequency among the documents\n",
    "from nltk import ngrams, FreqDist\n",
    "all_counts = dict()\n",
    "for size in 2, 3, 4, 5:\n",
    "    all_counts[size] = FreqDist(ngrams(data, size))\n",
    "    \n",
    "\n",
    "collections.Counter(bigrams) or pandas.Series(bigrams).value_counts()    "
   ]
  },
  {
   "cell_type": "markdown",
   "metadata": {},
   "source": [
    "##Sentiment analysis of body of full-text cables "
   ]
  },
  {
   "cell_type": "markdown",
   "metadata": {},
   "source": [
    "##Length of documents\n"
   ]
  }
 ],
 "metadata": {
  "kernelspec": {
   "display_name": "Python [conda env:chronos_data_intro]",
   "language": "python",
   "name": "conda-env-chronos_data_intro-py"
  },
  "language_info": {
   "codemirror_mode": {
    "name": "ipython",
    "version": 3
   },
   "file_extension": ".py",
   "mimetype": "text/x-python",
   "name": "python",
   "nbconvert_exporter": "python",
   "pygments_lexer": "ipython3",
   "version": "3.5.6"
  }
 },
 "nbformat": 4,
 "nbformat_minor": 2
}
