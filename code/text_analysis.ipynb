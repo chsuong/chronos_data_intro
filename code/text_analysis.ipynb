{
 "cells": [
  {
   "cell_type": "code",
   "execution_count": 2,
   "metadata": {},
   "outputs": [],
   "source": [
    "import os\n",
    "import sys\n",
    "import time\n",
    "import datetime\n",
    "import re\n",
    "import pickle\n",
    "import getpass\n",
    "from bs4 import BeautifulSoup\n",
    "import pandas as pd\n",
    "import pandas.io.sql as psql\n",
    "import pymysql\n",
    "import numpy as np\n",
    "import pylab\n",
    "import matplotlib\n",
    "import matplotlib.pyplot as plt\n",
    "from matplotlib.font_manager import FontProperties\n",
    "import seaborn as sns\n",
    "#import seaborn.apionly as sns\n",
    "import nltk\n",
    "import nltk.data\n",
    "from nltk.corpus import stopwords\n",
    "\n",
    "%matplotlib inline\n",
    "#%pylab inline"
   ]
  },
  {
   "cell_type": "code",
   "execution_count": 4,
   "metadata": {},
   "outputs": [
    {
     "name": "stdout",
     "output_type": "stream",
     "text": [
      "········\n"
     ]
    }
   ],
   "source": [
    "p = getpass.getpass()\n",
    "conn = pymysql.connect(host='history-lab.org', port=3306, user='de_reader', passwd=p, db='declassification_cables')\n",
    "cur = conn.cursor()"
   ]
  },
  {
   "cell_type": "code",
   "execution_count": 5,
   "metadata": {},
   "outputs": [
    {
     "name": "stdout",
     "output_type": "stream",
     "text": [
      "('information_schema',)\n",
      "('authentication',)\n",
      "('bookwormDB',)\n",
      "('clinton_test',)\n",
      "('clinton_test_2',)\n",
      "('ddrs_equity',)\n",
      "('declassification',)\n",
      "('declassification_api',)\n",
      "('declassification_api_test',)\n",
      "('declassification_api_update',)\n",
      "('declassification_cabinet',)\n",
      "('declassification_cables',)\n",
      "('declassification_clinton',)\n",
      "('declassification_clinton_staging',)\n",
      "('declassification_cpdoc',)\n",
      "('declassification_ddrs',)\n",
      "('declassification_foia_dod',)\n",
      "('declassification_frus',)\n",
      "('declassification_frus_update',)\n",
      "('declassification_kissinger',)\n",
      "('declassification_pdb',)\n",
      "('declassification_pdb_test',)\n",
      "('etc',)\n",
      "('historylab_user_information',)\n",
      "('mysql',)\n",
      "('performance_schema',)\n",
      "('predict_history',)\n",
      "('predict_history_new',)\n",
      "('predictify_source',)\n",
      "('predictify_target',)\n",
      "('sys',)\n",
      "('user_information',)\n",
      "('visualizations',)\n"
     ]
    }
   ],
   "source": [
    "cur.execute(\"show databases;\")\n",
    "for r in cur.fetchall():\n",
    "   print(r)"
   ]
  },
  {
   "cell_type": "code",
   "execution_count": 6,
   "metadata": {},
   "outputs": [
    {
     "name": "stdout",
     "output_type": "stream",
     "text": [
      "('classification_countries',)\n",
      "('classification_doc',)\n",
      "('classifications',)\n",
      "('concept_doc',)\n",
      "('concepts',)\n",
      "('countries',)\n",
      "('country_doc',)\n",
      "('doc_counts',)\n",
      "('docs',)\n",
      "('from_to_sum',)\n",
      "('network_docs',)\n",
      "('network_nodes',)\n",
      "('office_doc',)\n",
      "('offices',)\n",
      "('person_doc',)\n",
      "('persons',)\n",
      "('reference_doc',)\n",
      "('tag_doc',)\n",
      "('tag_doc_staging',)\n",
      "('tagname_doc',)\n",
      "('tagnames',)\n",
      "('tags',)\n",
      "('tags_staging',)\n",
      "('tokens',)\n",
      "('top_classifications',)\n",
      "('top_countries',)\n",
      "('top_network',)\n",
      "('top_persons',)\n",
      "('top_topics',)\n",
      "('topic_doc',)\n",
      "('topic_token',)\n",
      "('topics',)\n",
      "('urgency',)\n",
      "('urgency_doc',)\n"
     ]
    }
   ],
   "source": [
    "cur.execute(\"use declassification_cables;\")\n",
    "cur.execute(\"show tables;\")\n",
    "for r in cur.fetchall():\n",
    "   print(r)"
   ]
  },
  {
   "cell_type": "code",
   "execution_count": null,
   "metadata": {},
   "outputs": [],
   "source": []
  }
 ],
 "metadata": {
  "kernelspec": {
   "display_name": "Python [conda env:chronos_data_intro]",
   "language": "python",
   "name": "conda-env-chronos_data_intro-py"
  },
  "language_info": {
   "codemirror_mode": {
    "name": "ipython",
    "version": 3
   },
   "file_extension": ".py",
   "mimetype": "text/x-python",
   "name": "python",
   "nbconvert_exporter": "python",
   "pygments_lexer": "ipython3",
   "version": "3.5.6"
  }
 },
 "nbformat": 4,
 "nbformat_minor": 2
}
